{
 "cells": [
  {
   "cell_type": "markdown",
   "id": "1111b51f-e379-4d3e-a1ad-ec53720f2e18",
   "metadata": {
    "slideshow": {
     "slide_type": "slide"
    },
    "tags": []
   },
   "source": [
    "# Predicting CMS Prevalence of Diabetes at County Level based CDC Social Determinates of Health\n",
    "\n",
    "\n",
    "\n",
    "__[GitHub: SocialHealthAI/CMS-CDC-SDOH](https://github.com/SocialHealthAI/CMS-CDC-SDOH)__"
   ]
  },
  {
   "cell_type": "markdown",
   "id": "e4508b4e-4615-41a6-9b82-ed3e4d1e873c",
   "metadata": {
    "slideshow": {
     "slide_type": "subslide"
    },
    "tags": []
   },
   "source": [
    "## Overview\n",
    "Studies show a strong correlation between social determinates of health and mental/physical health __[County Health Rankings, Relationships Between Determinant Factors\n",
    "and Health Outcomes](https://www.ajpmonline.org/article/S0749-3797(15)00514-0/fulltext)__ provides a detailed analysis of social features correlated to premature death, low birth weight and poor mental/physical health.  The CDC provides \n",
    "__[analytic tools to analytize diabetes and a social vulnerability index](https://gis.cdc.gov/grasp/diabetes/diabetesatlas-sdoh.html#)__.\n",
    "\n",
    "''<img src='./diabetes_ohio.png' title='Ohio Diabetes Prevalence and Social Vulnerability Index' />\n",
    "\n",
    "The target for the models is the prevalence (percent) of diabetes based on Medicare claims in a county.  The features used to predict the target are social determinates of health based on CDC data."
   ]
  },
  {
   "cell_type": "markdown",
   "id": "1510e10e-c384-46cd-b5b2-1ed111e8ee1d",
   "metadata": {
    "slideshow": {
     "slide_type": "subslide"
    },
    "tags": []
   },
   "source": [
    "## Benefits\n",
    "The models can be used in several ways:\n",
    "- Ranking the important SDOH features for a county.\n",
    "- Predicting the CMS prevalence based on SDOH features changes.\n",
    "- Predicting the CMS prevalence when new CDC SDOH data is available."
   ]
  },
  {
   "cell_type": "markdown",
   "id": "d207d74c-02b1-4c25-a7b6-32fc8cbcb966",
   "metadata": {},
   "source": [
    "# Acquire Data"
   ]
  },
  {
   "cell_type": "markdown",
   "id": "491fe0ff-0815-4f1c-8b29-8151f2aa1bd5",
   "metadata": {
    "slideshow": {
     "slide_type": "slide"
    },
    "tags": [],
    "toc-hr-collapsed": true
   },
   "source": [
    "## Aquire CMS Diabetes Claims"
   ]
  },
  {
   "cell_type": "markdown",
   "id": "1aaf160a-d8b4-4c8c-96d6-36a4a7427ccb",
   "metadata": {},
   "source": [
    "Call CMS Chronic Data notebook"
   ]
  },
  {
   "cell_type": "code",
   "execution_count": 52,
   "id": "5a111bc2-687c-457e-ac4d-c9e18886caed",
   "metadata": {
    "tags": []
   },
   "outputs": [
    {
     "data": {
      "text/html": [
       "<div>\n",
       "<style scoped>\n",
       "    .dataframe tbody tr th:only-of-type {\n",
       "        vertical-align: middle;\n",
       "    }\n",
       "\n",
       "    .dataframe tbody tr th {\n",
       "        vertical-align: top;\n",
       "    }\n",
       "\n",
       "    .dataframe thead th {\n",
       "        text-align: right;\n",
       "    }\n",
       "</style>\n",
       "<table border=\"1\" class=\"dataframe\">\n",
       "  <thead>\n",
       "    <tr style=\"text-align: right;\">\n",
       "      <th></th>\n",
       "      <th>State</th>\n",
       "      <th>County</th>\n",
       "      <th>FIPS</th>\n",
       "      <th>Diabetes</th>\n",
       "    </tr>\n",
       "  </thead>\n",
       "  <tbody>\n",
       "    <tr>\n",
       "      <th>3</th>\n",
       "      <td>Alabama</td>\n",
       "      <td>Autauga</td>\n",
       "      <td>01001</td>\n",
       "      <td>31.029</td>\n",
       "    </tr>\n",
       "    <tr>\n",
       "      <th>4</th>\n",
       "      <td>Alabama</td>\n",
       "      <td>Baldwin</td>\n",
       "      <td>01003</td>\n",
       "      <td>23.5492</td>\n",
       "    </tr>\n",
       "    <tr>\n",
       "      <th>5</th>\n",
       "      <td>Alabama</td>\n",
       "      <td>Barbour</td>\n",
       "      <td>01005</td>\n",
       "      <td>32.6483</td>\n",
       "    </tr>\n",
       "    <tr>\n",
       "      <th>6</th>\n",
       "      <td>Alabama</td>\n",
       "      <td>Bibb</td>\n",
       "      <td>01007</td>\n",
       "      <td>32.6255</td>\n",
       "    </tr>\n",
       "    <tr>\n",
       "      <th>7</th>\n",
       "      <td>Alabama</td>\n",
       "      <td>Blount</td>\n",
       "      <td>01009</td>\n",
       "      <td>28.6635</td>\n",
       "    </tr>\n",
       "    <tr>\n",
       "      <th>...</th>\n",
       "      <td>...</td>\n",
       "      <td>...</td>\n",
       "      <td>...</td>\n",
       "      <td>...</td>\n",
       "    </tr>\n",
       "    <tr>\n",
       "      <th>3249</th>\n",
       "      <td>Wyoming</td>\n",
       "      <td>Uinta</td>\n",
       "      <td>56041</td>\n",
       "      <td>22.5342</td>\n",
       "    </tr>\n",
       "    <tr>\n",
       "      <th>3250</th>\n",
       "      <td>Wyoming</td>\n",
       "      <td>Unknown</td>\n",
       "      <td>56999</td>\n",
       "      <td>*</td>\n",
       "    </tr>\n",
       "    <tr>\n",
       "      <th>3251</th>\n",
       "      <td>Wyoming</td>\n",
       "      <td>Washakie</td>\n",
       "      <td>56043</td>\n",
       "      <td>23.0028</td>\n",
       "    </tr>\n",
       "    <tr>\n",
       "      <th>3252</th>\n",
       "      <td>Wyoming</td>\n",
       "      <td>Weston</td>\n",
       "      <td>56045</td>\n",
       "      <td>20.5758</td>\n",
       "    </tr>\n",
       "    <tr>\n",
       "      <th>3253</th>\n",
       "      <td>Unknown</td>\n",
       "      <td></td>\n",
       "      <td></td>\n",
       "      <td>*</td>\n",
       "    </tr>\n",
       "  </tbody>\n",
       "</table>\n",
       "<p>3251 rows × 4 columns</p>\n",
       "</div>"
      ],
      "text/plain": [
       "         State     County    FIPS Diabetes\n",
       "3     Alabama    Autauga   01001    31.029\n",
       "4     Alabama    Baldwin   01003   23.5492\n",
       "5     Alabama    Barbour   01005   32.6483\n",
       "6     Alabama       Bibb   01007   32.6255\n",
       "7     Alabama     Blount   01009   28.6635\n",
       "...        ...        ...     ...      ...\n",
       "3249  Wyoming      Uinta    56041  22.5342\n",
       "3250  Wyoming    Unknown    56999       * \n",
       "3251  Wyoming   Washakie    56043  23.0028\n",
       "3252  Wyoming     Weston   56045   20.5758\n",
       "3253  Unknown                           * \n",
       "\n",
       "[3251 rows x 4 columns]"
      ]
     },
     "execution_count": 52,
     "metadata": {},
     "output_type": "execute_result"
    }
   ],
   "source": [
    "parm_CMSChronic_year = '2018'\n",
    "parm_CMSChronic_disease = 'Diabetes'\n",
    "%run ./dataCMSChronic.ipynb\n",
    "dfCMSChronicPrevalence = out_CMSChronic()\n",
    "dfCMSChronicPrevalence"
   ]
  },
  {
   "cell_type": "markdown",
   "id": "51813565-ceb3-4121-8ce2-2e3969fdc84e",
   "metadata": {},
   "source": [
    "## Explore CMS Data"
   ]
  },
  {
   "cell_type": "code",
   "execution_count": 69,
   "id": "1b6f3f0c-5953-44f2-b456-bc296f8566bf",
   "metadata": {},
   "outputs": [
    {
     "data": {
      "text/plain": [
       "<AxesSubplot:xlabel='County'>"
      ]
     },
     "execution_count": 69,
     "metadata": {},
     "output_type": "execute_result"
    },
    {
     "data": {
      "image/png": "[encoded data removed]",
      "text/plain": [
       "<Figure size 1440x288 with 1 Axes>"
      ]
     },
     "metadata": {
      "needs_background": "light"
     },
     "output_type": "display_data"
    }
   ],
   "source": [
    "import matplotlib.pyplot as plt\n",
    "dfDisplay = dfCMSChronicPrevalence[dfCMSChronicPrevalence.State == 'Ohio ']\n",
    "dfDisplay = dfDisplay[dfDisplay.Diabetes != '* ']\n",
    "dfDisplay['Diabetes'] = dfDisplay['Diabetes'].apply(pd.to_numeric)\n",
    "dfDisplay= dfDisplay.sort_values('Diabetes',ascending=False)\n",
    "dfDisplay.plot(x=\"County\", y=\"Diabetes\", kind=\"bar\", figsize=(20,4))"
   ]
  },
  {
   "cell_type": "markdown",
   "id": "995a144a-9a0e-4e4b-9da7-3783b9b3f3bb",
   "metadata": {
    "slideshow": {
     "slide_type": "subslide"
    },
    "tags": []
   },
   "source": [
    "## Acquire CDC Social Determinates of Health"
   ]
  },
  {
   "cell_type": "markdown",
   "id": "4c217969-2a06-4a36-aa35-d8096336c8d1",
   "metadata": {
    "tags": []
   },
   "source": [
    "## Explore CDC Data"
   ]
  },
  {
   "cell_type": "markdown",
   "id": "4352971c-3e3b-40ad-bfcb-6bf33ac76d53",
   "metadata": {
    "jp-MarkdownHeadingCollapsed": true,
    "tags": []
   },
   "source": [
    "# Prepare and Clean Data"
   ]
  },
  {
   "cell_type": "markdown",
   "id": "da905b3e-c85b-4ef2-abf1-2183d801dd98",
   "metadata": {},
   "source": [
    "# Develop Models and Evaluate Performance"
   ]
  },
  {
   "cell_type": "markdown",
   "id": "13d961d0-f0ac-4673-b6c6-6076636f87e8",
   "metadata": {},
   "source": [
    "## Regression"
   ]
  },
  {
   "cell_type": "markdown",
   "id": "67b3cbc2-ea6f-48d2-96dd-847f29a97e29",
   "metadata": {},
   "source": [
    "## Random Forest"
   ]
  },
  {
   "cell_type": "markdown",
   "id": "6ab7df8f-a92e-4617-9e28-42a881e19fd4",
   "metadata": {},
   "source": [
    "## Boosted Trees"
   ]
  },
  {
   "cell_type": "markdown",
   "id": "f28a33e8-6185-4932-be05-b6eaffed6169",
   "metadata": {},
   "source": [
    "# Publish Models"
   ]
  }
 ],
 "metadata": {
  "kernelspec": {
   "display_name": "Python 3",
   "language": "python",
   "name": "python3"
  },
  "language_info": {
   "codemirror_mode": {
    "name": "ipython",
    "version": 3
   },
   "file_extension": ".py",
   "mimetype": "text/x-python",
   "name": "python",
   "nbconvert_exporter": "python",
   "pygments_lexer": "ipython3",
   "version": "3.9.12"
  },
  "toc-autonumbering": true,
  "toc-showcode": true,
  "toc-showmarkdowntxt": false
 },
 "nbformat": 4,
 "nbformat_minor": 5
}
