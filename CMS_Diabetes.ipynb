{
 "cells": [
  {
   "cell_type": "markdown",
   "id": "1111b51f-e379-4d3e-a1ad-ec53720f2e18",
   "metadata": {
    "tags": []
   },
   "source": [
    "# Predicting Prevalence of Diabetes in Healthcare Facility Service Area"
   ]
  },
  {
   "cell_type": "markdown",
   "id": "67e7799c-bf06-4821-8f6f-63edc560a9c3",
   "metadata": {},
   "source": [
    "Predict prevalence of diabetes in zip codes served by a healthcare facility based on social determinants of health using publicly available CMS and CDC data.\n",
    "\n",
    "![tea.jpg](attachment:tea.jpg)\n",
    "\n",
    "This can provide the key social features correlated to a facility’s service area or the  prevalence in areas not served by facilities or predicted prevalence when social features change.\n"
   ]
  },
  {
   "cell_type": "markdown",
   "id": "d207d74c-02b1-4c25-a7b6-32fc8cbcb966",
   "metadata": {},
   "source": [
    "# Acquire Data"
   ]
  },
  {
   "cell_type": "markdown",
   "id": "491fe0ff-0815-4f1c-8b29-8151f2aa1bd5",
   "metadata": {},
   "source": [
    "## CMS Diabetes Claims"
   ]
  },
  {
   "cell_type": "markdown",
   "id": "995a144a-9a0e-4e4b-9da7-3783b9b3f3bb",
   "metadata": {},
   "source": [
    "## CDC Social Determinates of Health"
   ]
  },
  {
   "cell_type": "markdown",
   "id": "ff21a8eb-af21-43a5-a132-d6e27a4af448",
   "metadata": {},
   "source": [
    "## CMS Healthcare Service Areas"
   ]
  },
  {
   "cell_type": "markdown",
   "id": "5f5bb1eb-8b8b-44a2-b008-368b17786b44",
   "metadata": {},
   "source": [
    "## Map Zip Codes to Census FIPS"
   ]
  },
  {
   "cell_type": "markdown",
   "id": "4c217969-2a06-4a36-aa35-d8096336c8d1",
   "metadata": {
    "tags": []
   },
   "source": [
    "# Explore Data"
   ]
  },
  {
   "cell_type": "markdown",
   "id": "4352971c-3e3b-40ad-bfcb-6bf33ac76d53",
   "metadata": {
    "jp-MarkdownHeadingCollapsed": true,
    "tags": []
   },
   "source": [
    "# Prepare and Clean Data"
   ]
  },
  {
   "cell_type": "markdown",
   "id": "da905b3e-c85b-4ef2-abf1-2183d801dd98",
   "metadata": {},
   "source": [
    "# Develop Models and Evaluate Performance"
   ]
  },
  {
   "cell_type": "markdown",
   "id": "f28a33e8-6185-4932-be05-b6eaffed6169",
   "metadata": {},
   "source": [
    "# Publish Models"
   ]
  }
 ],
 "metadata": {
  "kernelspec": {
   "display_name": "Python 3 (ipykernel)",
   "language": "python",
   "name": "python3"
  },
  "language_info": {
   "codemirror_mode": {
    "name": "ipython",
    "version": 3
   },
   "file_extension": ".py",
   "mimetype": "text/x-python",
   "name": "python",
   "nbconvert_exporter": "python",
   "pygments_lexer": "ipython3",
   "version": "3.9.13"
  },
  "toc-autonumbering": true,
  "toc-showcode": true,
  "toc-showmarkdowntxt": false
 },
 "nbformat": 4,
 "nbformat_minor": 5
}
