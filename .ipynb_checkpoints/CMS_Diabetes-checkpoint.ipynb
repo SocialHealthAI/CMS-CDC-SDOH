{
 "cells": [
  {
   "cell_type": "markdown",
   "id": "1111b51f-e379-4d3e-a1ad-ec53720f2e18",
   "metadata": {
    "tags": []
   },
   "source": [
    "# Predicting CMS Prevalence of Diabetes at County Level based CDC Social Determinates of Health"
   ]
  },
  {
   "cell_type": "markdown",
   "id": "e4508b4e-4615-41a6-9b82-ed3e4d1e873c",
   "metadata": {},
   "source": [
    "## Overview\n",
    "Studies show a strong correlation between social determinates of health and mental/physical health __[County Health Rankings, Relationships Between Determinant Factors\n",
    "and Health Outcomes](https://www.ajpmonline.org/article/S0749-3797(15)00514-0/fulltext)__ provides a detailed analysis of social features correlated to premature death, low birth weight and poor mental/physical health.  The CDC provides \n",
    "__[analytic tools to analytize diabetes and a social vulnerability index](https://gis.cdc.gov/grasp/diabetes/diabetesatlas-sdoh.html#)__.\n",
    "\n",
    "''<img src='./diabetes_ohio.png' title='Ohio Diabetes Prevalence and Social Vulnerability Index' />\n",
    "\n",
    "The target for the models is the prevalence (percent) of diabetes based on Medicare claims in a county.  The features used to predict the target are social determinates of health based on CDC data."
   ]
  },
  {
   "cell_type": "markdown",
   "id": "1510e10e-c384-46cd-b5b2-1ed111e8ee1d",
   "metadata": {},
   "source": [
    "## Benefits\n",
    "The models can be used in several ways:\n",
    "- Ranking the important social features for a county.\n",
    "- Predicting the prevalence when social features change."
   ]
  },
  {
   "cell_type": "markdown",
   "id": "d207d74c-02b1-4c25-a7b6-32fc8cbcb966",
   "metadata": {},
   "source": [
    "# Acquire Data"
   ]
  },
  {
   "cell_type": "markdown",
   "id": "491fe0ff-0815-4f1c-8b29-8151f2aa1bd5",
   "metadata": {},
   "source": [
    "## CMS Diabetes Claims"
   ]
  },
  {
   "cell_type": "code",
   "execution_count": 26,
   "id": "5a111bc2-687c-457e-ac4d-c9e18886caed",
   "metadata": {},
   "outputs": [
    {
     "name": "stdout",
     "output_type": "stream",
     "text": [
      "Defaulting to user installation because normal site-packages is not writeable\n",
      "Requirement already satisfied: openpyxl in ./.local/lib/python3.9/site-packages (3.0.10)\n",
      "Requirement already satisfied: et-xmlfile in ./.local/lib/python3.9/site-packages (from openpyxl) (1.1.0)\n"
     ]
    },
    {
     "ename": "ModuleNotFoundError",
     "evalue": "No module named 'openpyxl'",
     "output_type": "error",
     "traceback": [
      "\u001b[0;31m---------------------------------------------------------------------------\u001b[0m",
      "\u001b[0;31mModuleNotFoundError\u001b[0m                       Traceback (most recent call last)",
      "Cell \u001b[0;32mIn [26], line 17\u001b[0m\n\u001b[1;32m     15\u001b[0m \u001b[38;5;28;01mimport\u001b[39;00m \u001b[38;5;21;01mpandas\u001b[39;00m \u001b[38;5;28;01mas\u001b[39;00m \u001b[38;5;21;01mpd\u001b[39;00m \n\u001b[1;32m     16\u001b[0m get_ipython()\u001b[38;5;241m.\u001b[39msystem(\u001b[38;5;124m'\u001b[39m\u001b[38;5;124mpip3 install openpyxl\u001b[39m\u001b[38;5;124m'\u001b[39m)\n\u001b[0;32m---> 17\u001b[0m \u001b[38;5;28;01mimport\u001b[39;00m \u001b[38;5;21;01mopenpyxl\u001b[39;00m\n\u001b[1;32m     19\u001b[0m \u001b[38;5;66;03m# Import the excel file and call it xls_file\u001b[39;00m\n\u001b[1;32m     20\u001b[0m excel_file \u001b[38;5;241m=\u001b[39m pd\u001b[38;5;241m.\u001b[39mExcelFile(\u001b[38;5;124m'\u001b[39m\u001b[38;5;124m./CMSchronic/County_Table_Chronic_Conditions_Prevalence_by_Age_2018.xlsx\u001b[39m\u001b[38;5;124m'\u001b[39m) \n",
      "\u001b[0;31mModuleNotFoundError\u001b[0m: No module named 'openpyxl'"
     ]
    }
   ],
   "source": [
    "import requests\n",
    "# url = 'https://www.cms.gov/Research-Statistics-Data-and-Systems/Statistics-Trends-and-Reports/Chronic-Conditions/Downloads/CC_Prev_State_County_Age.zip'\n",
    "# r = requests.get(url)\n",
    "# with open('myzip.zip', 'wb') as f:\n",
    "#   f.write(r.content) \n",
    "#r.content\n",
    "\n",
    "from zipfile import ZipFile  \n",
    "# loading the temp.zip and creating a zip object\n",
    "with ZipFile('myzip.zip', 'r') as zObject:\n",
    "# Extracting all files\n",
    "    zObject.extractall(\"./CMSchronic\")\n",
    "    zObject.close()\n",
    "\n",
    "import pandas as pd \n",
    "!pip3 install openpyxl\n",
    "import openpyxl\n",
    "  \n",
    "# Import the excel file and call it xls_file\n",
    "excel_file = pd.ExcelFile('./CMSchronic/County_Table_Chronic_Conditions_Prevalence_by_Age_2018.xlsx') \n",
    "# Load the excel_file's Sheet1 as a dataframe\n",
    "df2018 = excel_file.parse('Beneficiaries 65 Years and Older')\n",
    "print(df2018)\n"
   ]
  },
  {
   "cell_type": "markdown",
   "id": "995a144a-9a0e-4e4b-9da7-3783b9b3f3bb",
   "metadata": {},
   "source": [
    "## CDC Social Determinates of Health"
   ]
  },
  {
   "cell_type": "markdown",
   "id": "4c217969-2a06-4a36-aa35-d8096336c8d1",
   "metadata": {
    "tags": []
   },
   "source": [
    "# Explore Data"
   ]
  },
  {
   "cell_type": "markdown",
   "id": "4352971c-3e3b-40ad-bfcb-6bf33ac76d53",
   "metadata": {
    "jp-MarkdownHeadingCollapsed": true,
    "tags": []
   },
   "source": [
    "# Prepare and Clean Data"
   ]
  },
  {
   "cell_type": "markdown",
   "id": "da905b3e-c85b-4ef2-abf1-2183d801dd98",
   "metadata": {},
   "source": [
    "# Develop Models and Evaluate Performance"
   ]
  },
  {
   "cell_type": "markdown",
   "id": "f28a33e8-6185-4932-be05-b6eaffed6169",
   "metadata": {},
   "source": [
    "# Publish Models"
   ]
  }
 ],
 "metadata": {
  "kernelspec": {
   "display_name": "Python 3 (ipykernel)",
   "language": "python",
   "name": "python3"
  },
  "language_info": {
   "codemirror_mode": {
    "name": "ipython",
    "version": 3
   },
   "file_extension": ".py",
   "mimetype": "text/x-python",
   "name": "python",
   "nbconvert_exporter": "python",
   "pygments_lexer": "ipython3",
   "version": "3.9.13"
  },
  "toc-autonumbering": true,
  "toc-showcode": true,
  "toc-showmarkdowntxt": false
 },
 "nbformat": 4,
 "nbformat_minor": 5
}
