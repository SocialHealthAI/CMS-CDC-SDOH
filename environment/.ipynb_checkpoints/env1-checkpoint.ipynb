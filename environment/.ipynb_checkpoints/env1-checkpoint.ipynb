{
 "cells": [
  {
   "cell_type": "markdown",
   "id": "d1c038d5-e1bf-40e7-8b79-a9d1da1ba6a2",
   "metadata": {},
   "source": [
    "Establish environment by installing any packages needed and record all packages in a yaml file.  This could be handled by setting up a conda enviroment:\n",
    "\n",
    "##### check conda version\n",
    "    !conda --version\n",
    "\n",
    "##### install conda colab\n",
    "    !pip install -q condacolab<br>\n",
    "    import condacolab<br>\n",
    "    condacolab.install()\n",
    "\n",
    "##### record environment in yaml file\n",
    "    !conda env export > env1.yml\n",
    "\n",
    "##### to set up conda env based on yaml:\n",
    "    https://github.com/conda-incubator/condacolab\n"
   ]
  },
  {
   "cell_type": "code",
   "execution_count": null,
   "id": "9107934a-e860-4e21-b8d3-4f70a93edaa1",
   "metadata": {},
   "outputs": [],
   "source": [
    "# record environment\n",
    "!pip list -v > env1.txt"
   ]
  }
 ],
 "metadata": {
  "kernelspec": {
   "display_name": "Python 3",
   "language": "python",
   "name": "python3"
  },
  "language_info": {
   "codemirror_mode": {
    "name": "ipython",
    "version": 3
   },
   "file_extension": ".py",
   "mimetype": "text/x-python",
   "name": "python",
   "nbconvert_exporter": "python",
   "pygments_lexer": "ipython3",
   "version": "3.9.12"
  }
 },
 "nbformat": 4,
 "nbformat_minor": 5
}
