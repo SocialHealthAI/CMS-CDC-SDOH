{
 "cells": [
  {
   "cell_type": "markdown",
   "id": "f7b68dc6-7fd3-4b2b-8776-9685b92c380e",
   "metadata": {},
   "source": [
    "Provide function out_CMSChronic() to return dataframe for CMS Chronic Disease data using input parameters:\n",
    "- parm_CMSChronic_year\n",
    "- parm_CMSChronic_disease"
   ]
  },
  {
   "cell_type": "code",
   "execution_count": 1,
   "id": "883bb635-9ee5-40cc-86f4-b20a5eacdb37",
   "metadata": {},
   "outputs": [],
   "source": [
    "import requests\n",
    "\n",
    "url = 'https://www.cms.gov/Research-Statistics-Data-and-Systems/Statistics-Trends-and-Reports/Chronic-Conditions/Downloads/CC_Prev_State_County_Age.zip'\n",
    "r = requests.get(url)\n",
    "with open('./myzip.zip', 'wb') as f:\n",
    "    f.write(r.content) \n",
    "\n",
    "from zipfile import ZipFile  \n",
    "# loading the temp.zip and creating a zip object\n",
    "with ZipFile('./myzip.zip', 'r') as zObject:\n",
    "# Extracting all files\n",
    "    zObject.extractall(\"../CMSchronic\")\n",
    "    zObject.close()\n",
    "\n",
    "import pandas as pd \n",
    "pd.set_option('display.max_rows', 15)\n",
    "  \n",
    "# Import the excel file and call it xls_file\n",
    "dfCMSChronic = pd.read_excel('../CMSchronic/County_Table_Chronic_Conditions_Prevalence_by_Age_' + parm_CMSChronic_year + '.xlsx',\n",
    "                  sheet_name = 'All Beneficiaries', header=4)\n",
    "dfCMSChronic = dfCMSChronic.drop(dfCMSChronic.index [ [ 0,1,2 ] ])\n",
    "dfCMSChronic.columns.values[0]='State'\n",
    "dfCMSChronic.columns.values[1]='County'\n",
    "dfCMSChronic.columns.values[2]='FIPS'\n",
    "dfCMSChronic = dfCMSChronic[['State', 'County', 'FIPS', parm_CMSChronic_disease ]].copy()\n",
    "\n",
    "#\n",
    "# Data cleaning\n",
    "#\n",
    "dfCMSChronic = dfCMSChronic[dfCMSChronic[parm_CMSChronic_disease] != '* ']\n",
    "dfCMSChronic = dfCMSChronic[dfCMSChronic.County != '  ']\n",
    "dfCMSChronic = dfCMSChronic[dfCMSChronic.County != '']\n",
    "dfCMSChronic[parm_CMSChronic_disease] = dfCMSChronic[parm_CMSChronic_disease].apply(pd.to_numeric, errors= 'ignore')\n",
    "dfCMSChronic.columns = dfCMSChronic.columns.str.upper()\n",
    "dfCMSChronic['STATE'] = dfCMSChronic['STATE'].str.strip()\n",
    "dfCMSChronic['COUNTY'] = dfCMSChronic['COUNTY'].str.strip()\n",
    "\n",
    "def out_CMSChronic():\n",
    "   return dfCMSChronic\n"
   ]
  },
  {
   "cell_type": "code",
   "execution_count": null,
   "id": "3db0589d-331a-40c3-8077-59a17506b4ac",
   "metadata": {},
   "outputs": [],
   "source": []
  }
 ],
 "metadata": {
  "kernelspec": {
   "display_name": "Python 3",
   "language": "python",
   "name": "python3"
  },
  "language_info": {
   "codemirror_mode": {
    "name": "ipython",
    "version": 3
   },
   "file_extension": ".py",
   "mimetype": "text/x-python",
   "name": "python",
   "nbconvert_exporter": "python",
   "pygments_lexer": "ipython3",
   "version": "3.9.12"
  }
 },
 "nbformat": 4,
 "nbformat_minor": 5
}
