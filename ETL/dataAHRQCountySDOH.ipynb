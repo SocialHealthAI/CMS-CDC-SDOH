{
 "cells": [
  {
   "cell_type": "markdown",
   "id": "f7b68dc6-7fd3-4b2b-8776-9685b92c380e",
   "metadata": {},
   "source": [
    "Provide function out_AHRQCountySDOH() to return dataframe for AHRQ County level SDOH using input parameters:\n",
    "- parm_AHRQCountySDOH_year\n",
    "\n",
    "Beginning with the 2013 - 2014 AHRF, data that are not reported on original data source files are \n",
    "set to missing on the AHRF files. Prior to the 2013-2014 AHRF, these instances were zero-filled on \n",
    "the AHRF. The SDOH Database follows AHRF current missing value convention for all the years \n",
    "covered in the SDOH Database (blank).\n",
    "\n",
    "See https://www.ahrq.gov/sites/default/files/wysiwyg/sdoh/SDOH-Data-Sources-Documentation-v1-Final.pdf"
   ]
  },
  {
   "cell_type": "code",
   "execution_count": 49,
   "id": "883bb635-9ee5-40cc-86f4-b20a5eacdb37",
   "metadata": {},
   "outputs": [
    {
     "data": {
      "text/plain": [
       "(3106, 1066)"
      ]
     },
     "execution_count": 49,
     "metadata": {},
     "output_type": "execute_result"
    }
   ],
   "source": [
    "parm_AHRQCountySDOH_year = '2018'\n",
    "\n",
    "import requests\n",
    "\n",
    "url = 'https://www.ahrq.gov/sites/default/files/wysiwyg/sdoh/SDOH_'+  parm_AHRQCountySDOH_year +'_COUNTY_1_0.xlsx'\n",
    "#r = requests.get(url)\n",
    "#with open('./ahrq.xlsx', 'wb') as f:\n",
    "#    f.write(r.content) \n",
    "\n",
    "import pandas as pd \n",
    "pd.set_option('display.max_rows', 15)\n",
    "  \n",
    "# Import the excel file and call it xls_file\n",
    "#dfAHRQCountySDOH = pd.read_excel('./ahrq.xlsx', sheet_name = 'Data')\n",
    "#dfAHRQCountySDOH = dfAHRQCountySDOH.drop(dfAHRQCountySDOH.columns[[ 0,1,2,5,6 ]],axis = 1)\n",
    "\n",
    "#\n",
    "# Data cleaning\n",
    "#\n",
    "#dfAHRQCountySDOH.iloc[:, 2:] = dfAHRQCountySDOH.iloc[:, 2:].apply(pd.to_numeric, errors= 'ignore')\n",
    "#dfAHRQCountySDOH['COUNTY'] = dfAHRQCountySDOH['COUNTY'].str.replace(' County','')\n",
    "\n",
    "#def out_AHRQCountySDOH():\n",
    "#   return dfAHRQCountySDOH\n",
    " \n",
    "\n",
    "\n",
    "\n",
    "\n",
    "temp.shape"
   ]
  },
  {
   "cell_type": "code",
   "execution_count": null,
   "id": "3db0589d-331a-40c3-8077-59a17506b4ac",
   "metadata": {},
   "outputs": [],
   "source": []
  }
 ],
 "metadata": {
  "kernelspec": {
   "display_name": "Python 3",
   "language": "python",
   "name": "python3"
  },
  "language_info": {
   "codemirror_mode": {
    "name": "ipython",
    "version": 3
   },
   "file_extension": ".py",
   "mimetype": "text/x-python",
   "name": "python",
   "nbconvert_exporter": "python",
   "pygments_lexer": "ipython3",
   "version": "3.9.12"
  }
 },
 "nbformat": 4,
 "nbformat_minor": 5
}
